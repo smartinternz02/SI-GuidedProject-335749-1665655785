{
 "cells": [
  {
   "cell_type": "code",
   "execution_count": 1,
   "metadata": {},
   "outputs": [],
   "source": [
    "from tensorflow import keras"
   ]
  },
  {
   "cell_type": "code",
   "execution_count": 2,
   "metadata": {},
   "outputs": [],
   "source": [
    "from tensorflow.keras.models import Sequential\n",
    "from tensorflow.keras.layers import Dense\n",
    "from tensorflow.keras.layers import Convolution2D\n",
    "from tensorflow.keras.layers import MaxPooling2D\n",
    "from tensorflow.keras.layers import Flatten\n"
   ]
  },
  {
   "cell_type": "code",
   "execution_count": 3,
   "metadata": {},
   "outputs": [],
   "source": [
    "from keras.preprocessing.image import ImageDataGenerator\n",
    "train_datagen = ImageDataGenerator(rescale = 1./255,shear_range = 0.2,zoom_range = 0.2,horizontal_flip = True)\n",
    "test_datagen = ImageDataGenerator(rescale = 1./255)"
   ]
  },
  {
   "cell_type": "code",
   "execution_count": 5,
   "metadata": {},
   "outputs": [
    {
     "name": "stdout",
     "output_type": "stream",
     "text": [
      "Found 142 images belonging to 2 classes.\n",
      "Found 142 images belonging to 2 classes.\n"
     ]
    }
   ],
   "source": [
    "# applying Image data generator functionality to train and test set\n",
    "x_train = train_datagen.flow_from_directory(\n",
    "    r'C:\\Users\\91984\\Desktop\\lung cancer analysis\\dataset'\n",
    "    ,target_size = (64,64),batch_size = 32 ,\n",
    "    class_mode = 'binary',color_mode=\"grayscale\")\n",
    "x_test = test_datagen.flow_from_directory(\n",
    "    r'C:\\Users\\91984\\Desktop\\lung cancer analysis\\dataset',\n",
    "    target_size = (64,64),batch_size = 32 , \n",
    "    class_mode = 'binary',color_mode=\"grayscale\")\n"
   ]
  },
  {
   "cell_type": "code",
   "execution_count": 6,
   "metadata": {},
   "outputs": [
    {
     "name": "stdout",
     "output_type": "stream",
     "text": [
      "{'testset': 0, 'trainset': 1}\n"
     ]
    }
   ],
   "source": [
    "print(x_train.class_indices)"
   ]
  },
  {
   "cell_type": "code",
   "execution_count": 7,
   "metadata": {},
   "outputs": [],
   "source": [
    "model = Sequential()"
   ]
  },
  {
   "cell_type": "code",
   "execution_count": 8,
   "metadata": {},
   "outputs": [],
   "source": [
    "model.add(Convolution2D(32,(3,3), input_shape = (64,64,1),activation = \"relu\"))"
   ]
  },
  {
   "cell_type": "code",
   "execution_count": 9,
   "metadata": {},
   "outputs": [],
   "source": [
    "model.add(MaxPooling2D(pool_size = (2,2)))"
   ]
  },
  {
   "cell_type": "code",
   "execution_count": 10,
   "metadata": {},
   "outputs": [],
   "source": [
    "model.add(Flatten()) # input layer"
   ]
  },
  {
   "cell_type": "code",
   "execution_count": 11,
   "metadata": {},
   "outputs": [],
   "source": [
    "model.add(Dense(units = 128,kernel_initializer = \"random_uniform\",activation = \"relu\")) #hidden layer"
   ]
  },
  {
   "cell_type": "code",
   "execution_count": 12,
   "metadata": {},
   "outputs": [],
   "source": [
    "model.add(Dense(units = 1,kernel_initializer = \"random_uniform\",activation = \"sigmoid\")) #output layer"
   ]
  },
  {
   "cell_type": "code",
   "execution_count": 13,
   "metadata": {},
   "outputs": [],
   "source": [
    "model.compile(loss = \"binary_crossentropy\",optimizer = \"adam\",metrics = [\"accuracy\"])"
   ]
  },
  {
   "cell_type": "code",
   "execution_count": 14,
   "metadata": {},
   "outputs": [
    {
     "name": "stderr",
     "output_type": "stream",
     "text": [
      "C:\\Users\\91984\\AppData\\Local\\Temp\\ipykernel_10912\\772929486.py:1: UserWarning: `Model.fit_generator` is deprecated and will be removed in a future version. Please use `Model.fit`, which supports generators.\n",
      "  model.fit_generator(x_train , steps_per_epoch = 4, epochs = 100, validation_data = x_test, validation_steps = 2)\n"
     ]
    },
    {
     "name": "stdout",
     "output_type": "stream",
     "text": [
      "Epoch 1/100\n",
      "4/4 [==============================] - 8s 1s/step - loss: 0.6297 - accuracy: 0.7000 - val_loss: 0.7271 - val_accuracy: 0.6406\n",
      "Epoch 2/100\n",
      "4/4 [==============================] - 3s 729ms/step - loss: 0.6294 - accuracy: 0.7091 - val_loss: 0.6233 - val_accuracy: 0.7188\n",
      "Epoch 3/100\n",
      "4/4 [==============================] - 3s 800ms/step - loss: 0.6062 - accuracy: 0.7364 - val_loss: 0.6334 - val_accuracy: 0.6875\n",
      "Epoch 4/100\n",
      "4/4 [==============================] - 3s 788ms/step - loss: 0.6208 - accuracy: 0.7188 - val_loss: 0.6022 - val_accuracy: 0.7344\n",
      "Epoch 5/100\n",
      "4/4 [==============================] - 3s 802ms/step - loss: 0.5678 - accuracy: 0.7344 - val_loss: 0.6109 - val_accuracy: 0.6719\n",
      "Epoch 6/100\n",
      "4/4 [==============================] - 3s 717ms/step - loss: 0.5747 - accuracy: 0.7273 - val_loss: 0.5940 - val_accuracy: 0.7031\n",
      "Epoch 7/100\n",
      "4/4 [==============================] - 3s 797ms/step - loss: 0.5565 - accuracy: 0.7500 - val_loss: 0.5355 - val_accuracy: 0.7500\n",
      "Epoch 8/100\n",
      "4/4 [==============================] - 3s 736ms/step - loss: 0.5610 - accuracy: 0.7364 - val_loss: 0.5772 - val_accuracy: 0.7500\n",
      "Epoch 9/100\n",
      "4/4 [==============================] - 3s 790ms/step - loss: 0.5579 - accuracy: 0.7455 - val_loss: 0.5318 - val_accuracy: 0.7500\n",
      "Epoch 10/100\n",
      "4/4 [==============================] - 3s 818ms/step - loss: 0.6064 - accuracy: 0.7031 - val_loss: 0.6192 - val_accuracy: 0.6250\n",
      "Epoch 11/100\n",
      "4/4 [==============================] - 3s 783ms/step - loss: 0.5704 - accuracy: 0.7344 - val_loss: 0.5885 - val_accuracy: 0.7188\n",
      "Epoch 12/100\n",
      "4/4 [==============================] - 3s 801ms/step - loss: 0.5465 - accuracy: 0.7455 - val_loss: 0.5356 - val_accuracy: 0.7344\n",
      "Epoch 13/100\n",
      "4/4 [==============================] - 3s 780ms/step - loss: 0.6158 - accuracy: 0.7109 - val_loss: 0.4296 - val_accuracy: 0.8281\n",
      "Epoch 14/100\n",
      "4/4 [==============================] - 3s 732ms/step - loss: 0.5825 - accuracy: 0.7091 - val_loss: 0.5677 - val_accuracy: 0.7188\n",
      "Epoch 15/100\n",
      "4/4 [==============================] - 3s 754ms/step - loss: 0.5710 - accuracy: 0.7182 - val_loss: 0.5933 - val_accuracy: 0.6406\n",
      "Epoch 16/100\n",
      "4/4 [==============================] - 3s 806ms/step - loss: 0.5820 - accuracy: 0.7422 - val_loss: 0.4803 - val_accuracy: 0.7969\n",
      "Epoch 17/100\n",
      "4/4 [==============================] - 3s 840ms/step - loss: 0.5666 - accuracy: 0.7266 - val_loss: 0.7149 - val_accuracy: 0.6094\n",
      "Epoch 18/100\n",
      "4/4 [==============================] - 3s 734ms/step - loss: 0.5462 - accuracy: 0.7364 - val_loss: 0.5303 - val_accuracy: 0.7500\n",
      "Epoch 19/100\n",
      "4/4 [==============================] - 3s 713ms/step - loss: 0.5384 - accuracy: 0.7455 - val_loss: 0.6097 - val_accuracy: 0.6875\n",
      "Epoch 20/100\n",
      "4/4 [==============================] - 3s 767ms/step - loss: 0.5747 - accuracy: 0.7188 - val_loss: 0.6355 - val_accuracy: 0.6250\n",
      "Epoch 21/100\n",
      "4/4 [==============================] - 3s 804ms/step - loss: 0.5594 - accuracy: 0.7188 - val_loss: 0.5468 - val_accuracy: 0.7188\n",
      "Epoch 22/100\n",
      "4/4 [==============================] - 3s 721ms/step - loss: 0.5584 - accuracy: 0.7273 - val_loss: 0.5419 - val_accuracy: 0.7344\n",
      "Epoch 23/100\n",
      "4/4 [==============================] - 3s 798ms/step - loss: 0.5717 - accuracy: 0.7109 - val_loss: 0.5904 - val_accuracy: 0.6875\n",
      "Epoch 24/100\n",
      "4/4 [==============================] - 3s 812ms/step - loss: 0.5547 - accuracy: 0.7364 - val_loss: 0.5584 - val_accuracy: 0.6875\n",
      "Epoch 25/100\n",
      "4/4 [==============================] - 3s 786ms/step - loss: 0.5536 - accuracy: 0.7266 - val_loss: 0.4453 - val_accuracy: 0.7969\n",
      "Epoch 26/100\n",
      "4/4 [==============================] - 3s 811ms/step - loss: 0.5750 - accuracy: 0.6875 - val_loss: 0.5334 - val_accuracy: 0.6875\n",
      "Epoch 27/100\n",
      "4/4 [==============================] - 3s 741ms/step - loss: 0.5774 - accuracy: 0.6818 - val_loss: 0.5519 - val_accuracy: 0.6875\n",
      "Epoch 28/100\n",
      "4/4 [==============================] - 3s 738ms/step - loss: 0.5687 - accuracy: 0.6909 - val_loss: 0.5038 - val_accuracy: 0.7188\n",
      "Epoch 29/100\n",
      "4/4 [==============================] - 3s 718ms/step - loss: 0.5427 - accuracy: 0.7182 - val_loss: 0.6126 - val_accuracy: 0.6875\n",
      "Epoch 30/100\n",
      "4/4 [==============================] - 3s 731ms/step - loss: 0.5587 - accuracy: 0.7091 - val_loss: 0.6113 - val_accuracy: 0.6719\n",
      "Epoch 31/100\n",
      "4/4 [==============================] - 3s 714ms/step - loss: 0.5586 - accuracy: 0.6909 - val_loss: 0.5625 - val_accuracy: 0.7031\n",
      "Epoch 32/100\n",
      "4/4 [==============================] - 3s 813ms/step - loss: 0.5395 - accuracy: 0.7266 - val_loss: 0.4987 - val_accuracy: 0.7188\n",
      "Epoch 33/100\n",
      "4/4 [==============================] - 3s 813ms/step - loss: 0.5767 - accuracy: 0.7000 - val_loss: 0.4537 - val_accuracy: 0.7969\n",
      "Epoch 34/100\n",
      "4/4 [==============================] - 3s 740ms/step - loss: 0.5618 - accuracy: 0.7000 - val_loss: 0.4556 - val_accuracy: 0.7500\n",
      "Epoch 35/100\n",
      "4/4 [==============================] - 3s 809ms/step - loss: 0.5545 - accuracy: 0.7455 - val_loss: 0.5086 - val_accuracy: 0.7500\n",
      "Epoch 36/100\n",
      "4/4 [==============================] - 3s 787ms/step - loss: 0.5161 - accuracy: 0.7266 - val_loss: 0.5534 - val_accuracy: 0.7031\n",
      "Epoch 37/100\n",
      "4/4 [==============================] - 3s 732ms/step - loss: 0.5369 - accuracy: 0.7091 - val_loss: 0.5077 - val_accuracy: 0.7344\n",
      "Epoch 38/100\n",
      "4/4 [==============================] - 3s 709ms/step - loss: 0.5214 - accuracy: 0.7364 - val_loss: 0.5294 - val_accuracy: 0.7344\n",
      "Epoch 39/100\n",
      "4/4 [==============================] - 3s 731ms/step - loss: 0.5041 - accuracy: 0.7364 - val_loss: 0.5895 - val_accuracy: 0.7031\n",
      "Epoch 40/100\n",
      "4/4 [==============================] - 3s 790ms/step - loss: 0.5793 - accuracy: 0.7188 - val_loss: 0.5307 - val_accuracy: 0.7188\n",
      "Epoch 41/100\n",
      "4/4 [==============================] - 3s 810ms/step - loss: 0.5368 - accuracy: 0.7091 - val_loss: 0.5079 - val_accuracy: 0.7188\n",
      "Epoch 42/100\n",
      "4/4 [==============================] - 3s 793ms/step - loss: 0.5235 - accuracy: 0.7422 - val_loss: 0.4976 - val_accuracy: 0.7188\n",
      "Epoch 43/100\n",
      "4/4 [==============================] - 3s 777ms/step - loss: 0.5516 - accuracy: 0.7188 - val_loss: 0.6040 - val_accuracy: 0.6875\n",
      "Epoch 44/100\n",
      "4/4 [==============================] - 3s 686ms/step - loss: 0.5521 - accuracy: 0.7000 - val_loss: 0.4574 - val_accuracy: 0.7344\n",
      "Epoch 45/100\n",
      "4/4 [==============================] - 3s 729ms/step - loss: 0.5475 - accuracy: 0.6909 - val_loss: 0.4673 - val_accuracy: 0.8125\n",
      "Epoch 46/100\n",
      "4/4 [==============================] - 3s 794ms/step - loss: 0.5354 - accuracy: 0.7031 - val_loss: 0.5120 - val_accuracy: 0.7188\n",
      "Epoch 47/100\n",
      "4/4 [==============================] - 3s 700ms/step - loss: 0.5091 - accuracy: 0.7000 - val_loss: 0.5572 - val_accuracy: 0.7344\n",
      "Epoch 48/100\n",
      "4/4 [==============================] - 3s 816ms/step - loss: 0.4952 - accuracy: 0.7266 - val_loss: 0.4738 - val_accuracy: 0.7344\n",
      "Epoch 49/100\n",
      "4/4 [==============================] - 3s 814ms/step - loss: 0.5225 - accuracy: 0.7182 - val_loss: 0.4452 - val_accuracy: 0.7656\n",
      "Epoch 50/100\n",
      "4/4 [==============================] - 3s 829ms/step - loss: 0.5037 - accuracy: 0.7455 - val_loss: 0.4943 - val_accuracy: 0.6875\n",
      "Epoch 51/100\n",
      "4/4 [==============================] - 3s 825ms/step - loss: 0.5138 - accuracy: 0.7000 - val_loss: 0.5933 - val_accuracy: 0.6719\n",
      "Epoch 52/100\n",
      "4/4 [==============================] - 3s 740ms/step - loss: 0.5092 - accuracy: 0.7000 - val_loss: 0.5191 - val_accuracy: 0.7031\n",
      "Epoch 53/100\n",
      "4/4 [==============================] - 3s 834ms/step - loss: 0.5436 - accuracy: 0.6719 - val_loss: 0.5502 - val_accuracy: 0.6406\n",
      "Epoch 54/100\n",
      "4/4 [==============================] - 3s 737ms/step - loss: 0.5018 - accuracy: 0.7364 - val_loss: 0.4620 - val_accuracy: 0.7344\n",
      "Epoch 55/100\n",
      "4/4 [==============================] - 3s 804ms/step - loss: 0.5071 - accuracy: 0.7344 - val_loss: 0.4914 - val_accuracy: 0.7188\n",
      "Epoch 56/100\n",
      "4/4 [==============================] - 3s 801ms/step - loss: 0.4804 - accuracy: 0.7273 - val_loss: 0.5791 - val_accuracy: 0.6094\n",
      "Epoch 57/100\n",
      "4/4 [==============================] - 3s 793ms/step - loss: 0.4903 - accuracy: 0.7188 - val_loss: 0.4902 - val_accuracy: 0.7188\n",
      "Epoch 58/100\n",
      "4/4 [==============================] - 3s 800ms/step - loss: 0.5270 - accuracy: 0.7182 - val_loss: 0.4771 - val_accuracy: 0.7031\n"
     ]
    },
    {
     "name": "stdout",
     "output_type": "stream",
     "text": [
      "Epoch 59/100\n",
      "4/4 [==============================] - 3s 777ms/step - loss: 0.5373 - accuracy: 0.6641 - val_loss: 0.4633 - val_accuracy: 0.7188\n",
      "Epoch 60/100\n",
      "4/4 [==============================] - 3s 784ms/step - loss: 0.5118 - accuracy: 0.7266 - val_loss: 0.4504 - val_accuracy: 0.7188\n",
      "Epoch 61/100\n",
      "4/4 [==============================] - 3s 735ms/step - loss: 0.5180 - accuracy: 0.6818 - val_loss: 0.5301 - val_accuracy: 0.6719\n",
      "Epoch 62/100\n",
      "4/4 [==============================] - 3s 825ms/step - loss: 0.4912 - accuracy: 0.7273 - val_loss: 0.5120 - val_accuracy: 0.7031\n",
      "Epoch 63/100\n",
      "4/4 [==============================] - 3s 716ms/step - loss: 0.5038 - accuracy: 0.6727 - val_loss: 0.4706 - val_accuracy: 0.7031\n",
      "Epoch 64/100\n",
      "4/4 [==============================] - 3s 781ms/step - loss: 0.5088 - accuracy: 0.7031 - val_loss: 0.4606 - val_accuracy: 0.7188\n",
      "Epoch 65/100\n",
      "4/4 [==============================] - 3s 757ms/step - loss: 0.4879 - accuracy: 0.6909 - val_loss: 0.4648 - val_accuracy: 0.6719\n",
      "Epoch 66/100\n",
      "4/4 [==============================] - 3s 824ms/step - loss: 0.4640 - accuracy: 0.7182 - val_loss: 0.4245 - val_accuracy: 0.7344\n",
      "Epoch 67/100\n",
      "4/4 [==============================] - 3s 827ms/step - loss: 0.4987 - accuracy: 0.7091 - val_loss: 0.4966 - val_accuracy: 0.6719\n",
      "Epoch 68/100\n",
      "4/4 [==============================] - 3s 793ms/step - loss: 0.4700 - accuracy: 0.7000 - val_loss: 0.4274 - val_accuracy: 0.7344\n",
      "Epoch 69/100\n",
      "4/4 [==============================] - 3s 877ms/step - loss: 0.4828 - accuracy: 0.7636 - val_loss: 0.4234 - val_accuracy: 0.7656\n",
      "Epoch 70/100\n",
      "4/4 [==============================] - 3s 814ms/step - loss: 0.4849 - accuracy: 0.7182 - val_loss: 0.4310 - val_accuracy: 0.7344\n",
      "Epoch 71/100\n",
      "4/4 [==============================] - 3s 739ms/step - loss: 0.5046 - accuracy: 0.6636 - val_loss: 0.4744 - val_accuracy: 0.7344\n",
      "Epoch 72/100\n",
      "4/4 [==============================] - 3s 720ms/step - loss: 0.4734 - accuracy: 0.7455 - val_loss: 0.4746 - val_accuracy: 0.7344\n",
      "Epoch 73/100\n",
      "4/4 [==============================] - 3s 720ms/step - loss: 0.4802 - accuracy: 0.7727 - val_loss: 0.4458 - val_accuracy: 0.7344\n",
      "Epoch 74/100\n",
      "4/4 [==============================] - 3s 711ms/step - loss: 0.4784 - accuracy: 0.7636 - val_loss: 0.5134 - val_accuracy: 0.7031\n",
      "Epoch 75/100\n",
      "4/4 [==============================] - 3s 779ms/step - loss: 0.5126 - accuracy: 0.7109 - val_loss: 0.4357 - val_accuracy: 0.7188\n",
      "Epoch 76/100\n",
      "4/4 [==============================] - 3s 810ms/step - loss: 0.4476 - accuracy: 0.7455 - val_loss: 0.5700 - val_accuracy: 0.6250\n",
      "Epoch 77/100\n",
      "4/4 [==============================] - 3s 740ms/step - loss: 0.5055 - accuracy: 0.6636 - val_loss: 0.4678 - val_accuracy: 0.7188\n",
      "Epoch 78/100\n",
      "4/4 [==============================] - 3s 787ms/step - loss: 0.4900 - accuracy: 0.7000 - val_loss: 0.5027 - val_accuracy: 0.6719\n",
      "Epoch 79/100\n",
      "4/4 [==============================] - 3s 777ms/step - loss: 0.5165 - accuracy: 0.6875 - val_loss: 0.3850 - val_accuracy: 0.7344\n",
      "Epoch 80/100\n",
      "4/4 [==============================] - 3s 815ms/step - loss: 0.5127 - accuracy: 0.6636 - val_loss: 0.4135 - val_accuracy: 0.7500\n",
      "Epoch 81/100\n",
      "4/4 [==============================] - 3s 714ms/step - loss: 0.4386 - accuracy: 0.7364 - val_loss: 0.5293 - val_accuracy: 0.6562\n",
      "Epoch 82/100\n",
      "4/4 [==============================] - 3s 792ms/step - loss: 0.4985 - accuracy: 0.7500 - val_loss: 0.5047 - val_accuracy: 0.7031\n",
      "Epoch 83/100\n",
      "4/4 [==============================] - 3s 725ms/step - loss: 0.4787 - accuracy: 0.7182 - val_loss: 0.4510 - val_accuracy: 0.7188\n",
      "Epoch 84/100\n",
      "4/4 [==============================] - 3s 822ms/step - loss: 0.4800 - accuracy: 0.6719 - val_loss: 0.3813 - val_accuracy: 0.7656\n",
      "Epoch 85/100\n",
      "4/4 [==============================] - 3s 741ms/step - loss: 0.4779 - accuracy: 0.7273 - val_loss: 0.4686 - val_accuracy: 0.7031\n",
      "Epoch 86/100\n",
      "4/4 [==============================] - 3s 706ms/step - loss: 0.4796 - accuracy: 0.6727 - val_loss: 0.5003 - val_accuracy: 0.6406\n",
      "Epoch 87/100\n",
      "4/4 [==============================] - 3s 747ms/step - loss: 0.4615 - accuracy: 0.7182 - val_loss: 0.4114 - val_accuracy: 0.7031\n",
      "Epoch 88/100\n",
      "4/4 [==============================] - 3s 743ms/step - loss: 0.4815 - accuracy: 0.7091 - val_loss: 0.3780 - val_accuracy: 0.7969\n",
      "Epoch 89/100\n",
      "4/4 [==============================] - 3s 729ms/step - loss: 0.5036 - accuracy: 0.6909 - val_loss: 0.4719 - val_accuracy: 0.7188\n",
      "Epoch 90/100\n",
      "4/4 [==============================] - 3s 731ms/step - loss: 0.4581 - accuracy: 0.7000 - val_loss: 0.4156 - val_accuracy: 0.7812\n",
      "Epoch 91/100\n",
      "4/4 [==============================] - 3s 706ms/step - loss: 0.4416 - accuracy: 0.7273 - val_loss: 0.4761 - val_accuracy: 0.7031\n",
      "Epoch 92/100\n",
      "4/4 [==============================] - 3s 724ms/step - loss: 0.4770 - accuracy: 0.6636 - val_loss: 0.4498 - val_accuracy: 0.7188\n",
      "Epoch 93/100\n",
      "4/4 [==============================] - 3s 726ms/step - loss: 0.5229 - accuracy: 0.7091 - val_loss: 0.4536 - val_accuracy: 0.7031\n",
      "Epoch 94/100\n",
      "4/4 [==============================] - 3s 711ms/step - loss: 0.4503 - accuracy: 0.7182 - val_loss: 0.4355 - val_accuracy: 0.6875\n",
      "Epoch 95/100\n",
      "4/4 [==============================] - 3s 740ms/step - loss: 0.4452 - accuracy: 0.7455 - val_loss: 0.4647 - val_accuracy: 0.6719\n",
      "Epoch 96/100\n",
      "4/4 [==============================] - 3s 703ms/step - loss: 0.4791 - accuracy: 0.6909 - val_loss: 0.4170 - val_accuracy: 0.7344\n",
      "Epoch 97/100\n",
      "4/4 [==============================] - 3s 707ms/step - loss: 0.5190 - accuracy: 0.6273 - val_loss: 0.4529 - val_accuracy: 0.6719\n",
      "Epoch 98/100\n",
      "4/4 [==============================] - 3s 768ms/step - loss: 0.4395 - accuracy: 0.7578 - val_loss: 0.4206 - val_accuracy: 0.7500\n",
      "Epoch 99/100\n",
      "4/4 [==============================] - 3s 732ms/step - loss: 0.4793 - accuracy: 0.6727 - val_loss: 0.3443 - val_accuracy: 0.7656\n",
      "Epoch 100/100\n",
      "4/4 [==============================] - 3s 701ms/step - loss: 0.4415 - accuracy: 0.7455 - val_loss: 0.3237 - val_accuracy: 0.8125\n"
     ]
    },
    {
     "data": {
      "text/plain": [
       "<keras.callbacks.History at 0x20a07cf31c0>"
      ]
     },
     "execution_count": 14,
     "metadata": {},
     "output_type": "execute_result"
    }
   ],
   "source": [
    "model.fit_generator(x_train , steps_per_epoch = 4, epochs = 100, validation_data = x_test, validation_steps = 2)"
   ]
  },
  {
   "cell_type": "code",
   "execution_count": 16,
   "metadata": {},
   "outputs": [],
   "source": [
    "model.save(\"LungCancer.h5\")"
   ]
  },
  {
   "cell_type": "code",
   "execution_count": null,
   "metadata": {},
   "outputs": [],
   "source": []
  }
 ],
 "metadata": {
  "kernelspec": {
   "display_name": "Python 3 (ipykernel)",
   "language": "python",
   "name": "python3"
  },
  "language_info": {
   "codemirror_mode": {
    "name": "ipython",
    "version": 3
   },
   "file_extension": ".py",
   "mimetype": "text/x-python",
   "name": "python",
   "nbconvert_exporter": "python",
   "pygments_lexer": "ipython3",
   "version": "3.9.12"
  }
 },
 "nbformat": 4,
 "nbformat_minor": 2
}
